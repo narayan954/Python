{
 "cells": [
  {
   "cell_type": "markdown",
   "metadata": {},
   "source": [
    "# Comprehensions\n",
    "\n",
    "variable = (param for param in iterable)\n",
    "\n",
    "* List comprehension \n",
    "* Set comprehensions\n",
    "* Dictionary comprehensions "
   ]
  },
  {
   "cell_type": "markdown",
   "metadata": {},
   "source": [
    "## List Comprehensions"
   ]
  },
  {
   "cell_type": "code",
   "execution_count": 1,
   "metadata": {},
   "outputs": [
    {
     "name": "stdout",
     "output_type": "stream",
     "text": [
      "['h', 'e', 'l', 'l', 'o', 'o']\n",
      "[0, 1, 2, 3, 4, 5, 6, 7, 8, 9]\n",
      "[0, 1, 4, 9, 16, 25, 36, 49, 64, 81]\n",
      "[0, 4, 16, 36, 64]\n"
     ]
    }
   ],
   "source": [
    "my_list = [char for char in 'helloo']\n",
    "my_list2 = [num for num in range(0,10)]\n",
    "my_list3 = [num**2 for num in range(0,10)]\n",
    "my_list4 = [num**2 for num in range(0,10) if num % 2 == 0]\n",
    "\n",
    "print(my_list)\n",
    "print(my_list2)\n",
    "print(my_list3)\n",
    "print(my_list4)"
   ]
  },
  {
   "cell_type": "markdown",
   "metadata": {},
   "source": [
    "## Set Comprehensions"
   ]
  },
  {
   "cell_type": "code",
   "execution_count": 2,
   "metadata": {},
   "outputs": [
    {
     "name": "stdout",
     "output_type": "stream",
     "text": [
      "{'e', 'l', 'o', 'h'}\n",
      "{0, 1, 2, 3, 4, 5, 6, 7, 8, 9}\n",
      "{0, 1, 64, 4, 36, 9, 16, 49, 81, 25}\n",
      "{0, 64, 4, 36, 16}\n"
     ]
    }
   ],
   "source": [
    "my_set = {char for char in 'helloo'}\n",
    "my_set2 = {num for num in range(0,10)}\n",
    "my_set3 = {num**2 for num in range(0,10)}\n",
    "my_set4 = {num**2 for num in range(0,10) if num % 2 == 0}\n",
    "\n",
    "print(my_set)\n",
    "print(my_set2)\n",
    "print(my_set3)\n",
    "print(my_set4)"
   ]
  },
  {
   "cell_type": "markdown",
   "metadata": {},
   "source": [
    "## Dictionary Comprehensions"
   ]
  },
  {
   "cell_type": "code",
   "execution_count": 4,
   "metadata": {},
   "outputs": [
    {
     "name": "stdout",
     "output_type": "stream",
     "text": [
      "{'a': 1, 'b': 4}\n",
      "{1: 1, 2: 4, 3: 9}\n"
     ]
    }
   ],
   "source": [
    "simple_dict = {\n",
    "    'a':1,\n",
    "    'b':2\n",
    "}\n",
    "my_dict = {key:value**2 for key,value in simple_dict.items()}\n",
    "my_dict2 = {num:num**2 for num in [1,2,3]}\n",
    "\n",
    "print(my_dict)\n",
    "print(my_dict2)"
   ]
  }
 ],
 "metadata": {
  "kernelspec": {
   "display_name": "Python 3",
   "language": "python",
   "name": "python3"
  },
  "language_info": {
   "codemirror_mode": {
    "name": "ipython",
    "version": 3
   },
   "file_extension": ".py",
   "mimetype": "text/x-python",
   "name": "python",
   "nbconvert_exporter": "python",
   "pygments_lexer": "ipython3",
   "version": "3.8.3"
  }
 },
 "nbformat": 4,
 "nbformat_minor": 4
}
