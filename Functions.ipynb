{
 "cells": [
  {
   "cell_type": "markdown",
   "metadata": {},
   "source": [
    "# Functions\n",
    "\n",
    "* Helps us follw the concept of DRY i.e Do not Repeat Yourself.\n",
    "* A way to store our code so that it can be reused in the  program later.\n",
    "\n",
    "Process is completed in two parts :\n",
    "1. Function definition\n",
    "2. Function calling"
   ]
  },
  {
   "cell_type": "code",
   "execution_count": 1,
   "metadata": {},
   "outputs": [
    {
     "name": "stdout",
     "output_type": "stream",
     "text": [
      "   *   \n",
      "  ***  \n",
      " ***** \n",
      "*******\n",
      "   *   \n",
      "   *   \n",
      "   *   \n",
      "  ***  \n",
      " ***** \n",
      "*******\n",
      "   *   \n",
      "   *   \n"
     ]
    }
   ],
   "source": [
    "def show_tree():    # function definition \n",
    "    picture = [\n",
    "    [0,0,0,1,0,0,0],\n",
    "    [0,0,1,1,1,0,0],\n",
    "    [0,1,1,1,1,1,0],\n",
    "    [1,1,1,1,1,1,1],\n",
    "    [0,0,0,1,0,0,0],\n",
    "    [0,0,0,1,0,0,0]] \n",
    "    \n",
    "    for image in picture:\n",
    "        for pixel in image:\n",
    "            if pixel == 1:\n",
    "                print('*',end='')\n",
    "            else:\n",
    "                print(' ',end='')\n",
    "        print('')\n",
    "\n",
    "show_tree() # function calling \n",
    "show_tree()"
   ]
  },
  {
   "cell_type": "code",
   "execution_count": 2,
   "metadata": {},
   "outputs": [
    {
     "name": "stdout",
     "output_type": "stream",
     "text": [
      "Hellloooo Shubhi 😍\n",
      "Hellloooo Aashi 😘\n",
      "Hellloooo Shubh ❤️\n"
     ]
    }
   ],
   "source": [
    "# parameters\n",
    "def say_hello(Name, emoji):\n",
    "    print(f'Hellloooo {Name} {emoji}')\n",
    "\n",
    "# positional arguments\n",
    "say_hello('Shubhi','😍')\n",
    "say_hello('Aashi','😘')\n",
    "say_hello('Shubh','❤️')"
   ]
  },
  {
   "cell_type": "code",
   "execution_count": 4,
   "metadata": {},
   "outputs": [
    {
     "name": "stdout",
     "output_type": "stream",
     "text": [
      "Hellloooo Mom and Dad ☺️\n"
     ]
    }
   ],
   "source": [
    "# keyword arguments  \n",
    "say_hello(emoji = '☺️',\n",
    "          Name = 'Mom and Dad')"
   ]
  },
  {
   "cell_type": "code",
   "execution_count": 5,
   "metadata": {},
   "outputs": [
    {
     "name": "stdout",
     "output_type": "stream",
     "text": [
      "Hellloooo Bro 💕\n",
      "Hellloooo Timmy 💕\n",
      "Hellloooo Cutiie 😊\n"
     ]
    }
   ],
   "source": [
    "# default parameters \n",
    "def say_hello(Name = 'Bro', emoji='💕'): \n",
    "    print(f'Hellloooo {Name} {emoji}')\n",
    "\n",
    "say_hello()\n",
    "say_hello('Timmy')\n",
    "say_hello('Cutiie','😊')"
   ]
  },
  {
   "cell_type": "code",
   "execution_count": 6,
   "metadata": {},
   "outputs": [
    {
     "name": "stdout",
     "output_type": "stream",
     "text": [
      "30\n",
      "60\n"
     ]
    }
   ],
   "source": [
    "def sum(num1,num2):\n",
    "    return num1 +num2\n",
    "\n",
    "total = sum(10,20)\n",
    "print(total)\n",
    "\n",
    "print(sum(total,30))"
   ]
  },
  {
   "cell_type": "markdown",
   "metadata": {},
   "source": [
    "## Nested Functions"
   ]
  },
  {
   "cell_type": "code",
   "execution_count": 7,
   "metadata": {},
   "outputs": [
    {
     "name": "stdout",
     "output_type": "stream",
     "text": [
      "None\n"
     ]
    }
   ],
   "source": [
    "def sum1(num1,num2):\n",
    "    def another_function(n1,n2):\n",
    "        return n1 + n2\n",
    "\n",
    "print(sum1(10,20))"
   ]
  },
  {
   "cell_type": "code",
   "execution_count": 9,
   "metadata": {},
   "outputs": [
    {
     "name": "stdout",
     "output_type": "stream",
     "text": [
      "<function sum1.<locals>.another_function at 0x7fee1ee36af0>\n",
      "30\n"
     ]
    }
   ],
   "source": [
    "def sum1(num1,num2):\n",
    "    def another_function(n1,n2):\n",
    "        return n1 + n2\n",
    "    return another_function\n",
    "total = sum1(10,20)\n",
    "print(total)\n",
    "print(total(10,20))"
   ]
  },
  {
   "cell_type": "code",
   "execution_count": 10,
   "metadata": {},
   "outputs": [
    {
     "name": "stdout",
     "output_type": "stream",
     "text": [
      "30\n"
     ]
    }
   ],
   "source": [
    "def sum1(num1,num2):\n",
    "    def another_function(n1,n2):\n",
    "        return n1 + n2\n",
    "    return another_function(num1,num2)\n",
    "total = sum1(10,20)\n",
    "print(total)"
   ]
  },
  {
   "cell_type": "markdown",
   "metadata": {},
   "source": [
    "## Docstrings"
   ]
  },
  {
   "cell_type": "code",
   "execution_count": 11,
   "metadata": {},
   "outputs": [
    {
     "name": "stdout",
     "output_type": "stream",
     "text": [
      "Help on function simple in module __main__:\n",
      "\n",
      "simple(name, age, hobby)\n",
      "    It takes info from the user and return a dictionary \n",
      "    of users information.\n",
      "\n"
     ]
    }
   ],
   "source": [
    "def simple(name,age,hobby):\n",
    "    '''\n",
    "    It takes info from the user and return a dictionary \n",
    "    of users information.\n",
    "    '''\n",
    "    user = {'Name' : name,\n",
    "            'Age' : age,\n",
    "            'Hobby' : hobby}\n",
    "    return user\n",
    "\n",
    "help(simple)"
   ]
  },
  {
   "cell_type": "code",
   "execution_count": 12,
   "metadata": {},
   "outputs": [
    {
     "data": {
      "text/plain": [
       "'\\n    It takes info from the user and return a dictionary \\n    of users information.\\n    '"
      ]
     },
     "execution_count": 12,
     "metadata": {},
     "output_type": "execute_result"
    }
   ],
   "source": [
    "simple.__doc__"
   ]
  },
  {
   "cell_type": "code",
   "execution_count": 13,
   "metadata": {},
   "outputs": [
    {
     "name": "stdout",
     "output_type": "stream",
     "text": [
      "{'Name': 'Shubhi', 'Age': 18, 'Hobby': 'Coding'}\n"
     ]
    }
   ],
   "source": [
    "me = simple('Shubhi',18,'Coding')\n",
    "print(me)"
   ]
  }
 ],
 "metadata": {
  "kernelspec": {
   "display_name": "Python 3",
   "language": "python",
   "name": "python3"
  },
  "language_info": {
   "codemirror_mode": {
    "name": "ipython",
    "version": 3
   },
   "file_extension": ".py",
   "mimetype": "text/x-python",
   "name": "python",
   "nbconvert_exporter": "python",
   "pygments_lexer": "ipython3",
   "version": "3.8.3"
  }
 },
 "nbformat": 4,
 "nbformat_minor": 4
}
