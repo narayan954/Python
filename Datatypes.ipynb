{
 "cells": [
  {
   "cell_type": "markdown",
   "metadata": {},
   "source": [
    "# Different data types in python\n",
    "\n",
    "* Numbers:\n",
    "  > `int`\n",
    "  \n",
    "  > `float`\n",
    "\n",
    "* Booleans\n",
    "* Strings\n",
    "* Lists\n",
    "* Tuples\n",
    "* Dictionaries\n",
    "* Sets"
   ]
  },
  {
   "cell_type": "markdown",
   "metadata": {},
   "source": [
    "## Numbers\n",
    "\n",
    "### int"
   ]
  },
  {
   "cell_type": "code",
   "execution_count": 1,
   "metadata": {},
   "outputs": [
    {
     "name": "stdout",
     "output_type": "stream",
     "text": [
      "6 <class 'int'>\n",
      "-2 <class 'int'>\n",
      "8 <class 'int'>\n",
      "0.5 <class 'float'>\n",
      "0 <class 'int'>\n"
     ]
    }
   ],
   "source": [
    "type(2)\n",
    "\n",
    "print(2+4,type(2+4))\n",
    "print(2-4,type(2-4))\n",
    "print(2*4,type(2*4))\n",
    "print(2/4,type(2/4))\n",
    "print(2//4,type(2//4))"
   ]
  },
  {
   "cell_type": "markdown",
   "metadata": {},
   "source": [
    "### float"
   ]
  },
  {
   "cell_type": "code",
   "execution_count": 2,
   "metadata": {},
   "outputs": [
    {
     "name": "stdout",
     "output_type": "stream",
     "text": [
      "<class 'float'>\n",
      "0.5 <class 'float'>\n"
     ]
    }
   ],
   "source": [
    "print(type(0.001))\n",
    "print(2/4,type(2/4))"
   ]
  },
  {
   "cell_type": "markdown",
   "metadata": {},
   "source": [
    "**How computer stores number**\n",
    "\n",
    "It stores number in binary format."
   ]
  },
  {
   "cell_type": "code",
   "execution_count": 3,
   "metadata": {},
   "outputs": [
    {
     "name": "stdout",
     "output_type": "stream",
     "text": [
      "Binary conversion of 5 : 0b101\n"
     ]
    },
    {
     "data": {
      "text/plain": [
       "5"
      ]
     },
     "execution_count": 3,
     "metadata": {},
     "output_type": "execute_result"
    }
   ],
   "source": [
    "print('Binary conversion of 5 :',bin(5))\n",
    "int('0b101',2)"
   ]
  },
  {
   "cell_type": "markdown",
   "metadata": {},
   "source": [
    "## Strings\n",
    "\n",
    "Strings are immutable\n",
    "\n",
    "**String Declaration**"
   ]
  },
  {
   "cell_type": "code",
   "execution_count": 4,
   "metadata": {},
   "outputs": [
    {
     "name": "stdout",
     "output_type": "stream",
     "text": [
      "Shubhangi\n",
      "Gupta\n",
      "Hello\n",
      "Everyone!!!\n",
      "ub\n",
      "Shub\n",
      "ubhangi\n",
      "Shubhangi\n",
      "uhn\n",
      "Suhni\n",
      "Hello\n",
      "Everyone!!!\n",
      "Shubhangi Gupta\n",
      "Hello Shubhangi!!!You are 18.\n",
      "Hello Shubhangi!!!You are 18.\n"
     ]
    }
   ],
   "source": [
    "first_Name = 'Shubhangi'\n",
    "last_Name = \"Gupta\"\n",
    "msg = '''Hello\n",
    "Everyone!!!'''\n",
    "\n",
    "print(first_Name)\n",
    "print(last_Name)\n",
    "print(msg)\n",
    "# Slicing\n",
    "print(first_Name[2:4])\n",
    "print(first_Name[:4])\n",
    "print(first_Name[2:])\n",
    "print(first_Name[:])\n",
    "print(first_Name[2:8:2])\n",
    "print(first_Name[::2])\n",
    "\n",
    "# String Concatenation\n",
    "sentence = msg + '\\n' +first_Name + ' ' + last_Name \n",
    "print(sentence)\n",
    "\n",
    "# Formatted Strings\n",
    "age = 18\n",
    "print('Hello ' + first_Name +'!!!' + 'You are ' + str(age) +'.')\n",
    "\n",
    "print(f'Hello {first_Name}!!!You are {age}.')   #formatted string"
   ]
  },
  {
   "cell_type": "markdown",
   "metadata": {},
   "source": [
    "**Built-in functions and methods**"
   ]
  },
  {
   "cell_type": "code",
   "execution_count": 5,
   "metadata": {},
   "outputs": [
    {
     "name": "stdout",
     "output_type": "stream",
     "text": [
      "12\n",
      "12\n",
      "helllooooooo\n",
      "TO BE OR NOT TO BE\n",
      "To be or not to be\n",
      "to be or not to be\n",
      "3\n",
      "to me or not to me\n",
      "to be or not to be\n",
      "True\n",
      "False\n"
     ]
    }
   ],
   "source": [
    "# Functions\n",
    "greet = 'helllooooooo'\n",
    "\n",
    "print(len('helllooooooo'))\n",
    "print(len(greet))\n",
    "print(greet[:len(greet)])\n",
    "\n",
    "# Methods\n",
    "quote = 'to be or not to be'\n",
    "\n",
    "print(quote.upper())\n",
    "print(quote.capitalize())\n",
    "print(quote.lower())\n",
    "print(quote.find('be'))\n",
    "print(quote.replace('be','me'))\n",
    "\n",
    "print(quote)\n",
    "\n",
    "print('be' in quote)\n",
    "print('x' in quote)"
   ]
  },
  {
   "cell_type": "markdown",
   "metadata": {},
   "source": [
    "## Booleans"
   ]
  },
  {
   "cell_type": "code",
   "execution_count": 6,
   "metadata": {},
   "outputs": [
    {
     "name": "stdout",
     "output_type": "stream",
     "text": [
      "True\n",
      "True\n",
      "False\n",
      "True\n"
     ]
    }
   ],
   "source": [
    "is_clear = True\n",
    "print(is_clear)\n",
    "print(bool(is_clear))\n",
    "\n",
    "print(bool(0))\n",
    "print(bool(1))"
   ]
  },
  {
   "cell_type": "markdown",
   "metadata": {},
   "source": [
    "## List\n",
    "\n",
    "Lists are mutable"
   ]
  },
  {
   "cell_type": "code",
   "execution_count": 7,
   "metadata": {},
   "outputs": [
    {
     "name": "stdout",
     "output_type": "stream",
     "text": [
      "[10, 100, 1000, 10000]\n",
      "1000\n",
      "[100]\n",
      "[10, 100]\n",
      "[100, 1000, 10000]\n",
      "[10, 100, 1000, 10000]\n",
      "[10, 1000]\n"
     ]
    }
   ],
   "source": [
    "List1 = [10,100,1000,10000]\n",
    "\n",
    "print(List1)\n",
    "print(List1[2])\n",
    "\n",
    "# Slicing\n",
    "print(List1[1:2])\n",
    "print(List1[:2])\n",
    "print(List1[1:])\n",
    "print(List1[:])\n",
    "print(List1[::2])"
   ]
  },
  {
   "cell_type": "markdown",
   "metadata": {},
   "source": [
    "**Built-in functions and methods**"
   ]
  },
  {
   "cell_type": "code",
   "execution_count": 8,
   "metadata": {},
   "outputs": [
    {
     "name": "stdout",
     "output_type": "stream",
     "text": [
      "[10, 100, 1000, 10000]\n",
      "4\n",
      "[10, 100, 1000, 10000]\n",
      "[10, 100, 1000, 10000, 64]\n",
      "[10, 100, 22, 1000, 10000, 64]\n",
      "[10, 100, 22, 1000, 10000, 64, 100000, 1000000]\n",
      "[10, 100, 22, 1000, 10000, 64, 100000]\n",
      "[10, 100, 1000, 10000, 100000]\n",
      "2\n",
      "1\n",
      "1\n",
      "2\n",
      "[10, 10, 100, 1000, 10000, 100000]\n",
      "[100000, 10000, 1000, 100, 10, 10]\n",
      "[10, 10, 100, 1000, 10000, 100000]\n",
      "[100000, 10000, 1000, 100, 10, 10]\n",
      "[]\n",
      "False\n",
      "False\n",
      "range(1, 100)\n",
      "[1, 2, 3, 4, 5, 6, 7, 8, 9, 10, 11, 12, 13, 14, 15, 16, 17, 18, 19, 20, 21, 22, 23, 24, 25, 26, 27, 28, 29, 30, 31, 32, 33, 34, 35, 36, 37, 38, 39, 40, 41, 42, 43, 44, 45, 46, 47, 48, 49, 50, 51, 52, 53, 54, 55, 56, 57, 58, 59, 60, 61, 62, 63, 64, 65, 66, 67, 68, 69, 70, 71, 72, 73, 74, 75, 76, 77, 78, 79, 80, 81, 82, 83, 84, 85, 86, 87, 88, 89, 90, 91, 92, 93, 94, 95, 96, 97, 98, 99]\n",
      "hi!my!name!is!shubhi\n",
      "1\n",
      "2\n",
      "[3, 4, 6, 7, 8, 9]\n",
      "10\n"
     ]
    }
   ],
   "source": [
    "# functions\n",
    "print(List1)\n",
    "print(len(List1))\n",
    "print(List1[:len(List1)])\n",
    "\n",
    "# Methods\n",
    "# 1.Adding\n",
    "List1.append(64)\n",
    "print(List1)\n",
    "List1.insert(2,22)\n",
    "print(List1)\n",
    "List1.extend([100000,1000000])\n",
    "print(List1)\n",
    "\n",
    "# 2.Removing\n",
    "List1.pop()\n",
    "print(List1)\n",
    "List1.remove(22)\n",
    "List1.remove(64)\n",
    "print(List1)\n",
    "\n",
    "# 3.Other methods\n",
    "print(List1.index(1000))\n",
    "print(List1.index(100,0,2))\n",
    "print(List1.count(10))\n",
    "List1.append(10)\n",
    "print(List1.count(10))\n",
    "List1.sort()\n",
    "print(List1)\n",
    "List1.reverse() # It do not sort in reverse order it just swap the index (0 with last...) \n",
    "print(List1)\n",
    "print(List1[::-1])\n",
    "List2 = List1.copy()\n",
    "print(List2)\n",
    "List1.clear()\n",
    "print(List1)\n",
    "\n",
    "# Some common list patterns\n",
    "print(100 in List1)\n",
    "print(42 in List1)\n",
    "print(range(1,100))\n",
    "print(list(range(1,100)))\n",
    "\n",
    "sent = '!'\n",
    "new_sent = sent.join(['hi','my','name','is','shubhi'])\n",
    "print(new_sent)\n",
    "\n",
    "a,b,*other,d = [1,2,3,4,6,7,8,9,10]\n",
    "print(a)\n",
    "print(b) \n",
    "print(other)\n",
    "print(d)"
   ]
  },
  {
   "cell_type": "markdown",
   "metadata": {},
   "source": [
    "## Dictionaries\n",
    "\n",
    "Dictionaries are mutable."
   ]
  },
  {
   "cell_type": "code",
   "execution_count": 9,
   "metadata": {},
   "outputs": [
    {
     "name": "stdout",
     "output_type": "stream",
     "text": [
      "[1, 2, 3]\n",
      "3\n",
      "6\n"
     ]
    }
   ],
   "source": [
    "dict1 = { \n",
    "'a' : [1,2,3],\n",
    "'b' : 'hello',\n",
    "'c' : True }\n",
    "\n",
    "print(dict1['a'])\n",
    "\n",
    "my_list = [\n",
    "{ \n",
    "'a' : [1,2,3],\n",
    "'b' : 'hello',\n",
    "'c' : True },\n",
    "{ \n",
    "'a' : [4,5,6],\n",
    "'b' : 'hello',\n",
    "'c' : True }\n",
    "]\n",
    "\n",
    "print(my_list[0]['a'][2])\n",
    "print(my_list[1]['a'][2])"
   ]
  },
  {
   "cell_type": "markdown",
   "metadata": {},
   "source": [
    "**Note:-**\n",
    "Dictionary keys can be anything like strings, numbers, tuples, booleans but not list because a list is mutable and in case if the value changes dictionary do not want to lose data."
   ]
  },
  {
   "cell_type": "markdown",
   "metadata": {},
   "source": [
    "**Built-in Methods**"
   ]
  },
  {
   "cell_type": "code",
   "execution_count": 10,
   "metadata": {},
   "outputs": [
    {
     "name": "stdout",
     "output_type": "stream",
     "text": [
      "{'a': [1, 2, 3], 'b': 'hello', 'c': True}\n",
      "None\n",
      "55\n",
      "False\n",
      "True\n",
      "True\n",
      "dict_items([('a', [1, 2, 3]), ('b', 'hello'), ('c', True)])\n",
      "{'a': [1, 2, 3], 'b': 'hello', 'c': True, 'x': 1234}\n",
      "{'a': [1, 2, 3], 'b': 'hello'}\n",
      "{'a': [1, 2, 3], 'b': 'hello'}\n",
      "{}\n",
      "{'a': [1, 2, 3], 'b': 'hello'}\n"
     ]
    }
   ],
   "source": [
    "print(dict1)\n",
    "print(dict1.get('x'))\n",
    "print(dict1.get('x',55))\n",
    "print('x'in dict1.items())\n",
    "print('c' in dict1.keys())\n",
    "print('hello' in dict1.values())\n",
    "print(dict1.items())\n",
    "\n",
    "dict1.update({'x' : 1234})\n",
    "print(dict1)\n",
    "dict1.pop('x')\n",
    "dict1.popitem()\n",
    "print(dict1)\n",
    "\n",
    "dict2 = dict1.copy()\n",
    "print(dict2)\n",
    "\n",
    "dict1.clear()\n",
    "print(dict1)\n",
    "print(dict2)"
   ]
  },
  {
   "cell_type": "markdown",
   "metadata": {},
   "source": [
    "## Tuples\n",
    "\n",
    "Tuples are immutable."
   ]
  },
  {
   "cell_type": "code",
   "execution_count": 11,
   "metadata": {},
   "outputs": [
    {
     "name": "stdout",
     "output_type": "stream",
     "text": [
      "(1, 2, 3, 4, 5, 5)\n",
      "2\n",
      "True\n",
      "(2,)\n",
      "(2, 3, 4)\n",
      "4\n",
      "2\n"
     ]
    }
   ],
   "source": [
    "tup1 = (1,2,3,4,5,5)\n",
    "print(tup1)\n",
    "\n",
    "print(tup1[1])\n",
    "print(1 in tup1)\n",
    "print(tup1[1:2])\n",
    "print(tup1[1:4])\n",
    "\n",
    "# Methods\n",
    "print(tup1.index(5))\n",
    "print(tup1.count(5))"
   ]
  },
  {
   "cell_type": "code",
   "execution_count": 12,
   "metadata": {},
   "outputs": [
    {
     "name": "stdout",
     "output_type": "stream",
     "text": [
      "{1, 2, 3, 100, 4}\n",
      "{1, 2, 3, 4, 5}\n"
     ]
    }
   ],
   "source": [
    "my_set = {1,2,3,4}\n",
    "\n",
    "my_set.add(100)\n",
    "my_set.add(2)\n",
    "print(my_set)\n",
    "\n",
    "my_list = [1,2,3,4,5,5]\n",
    "print(set(my_list))"
   ]
  },
  {
   "cell_type": "code",
   "execution_count": 13,
   "metadata": {},
   "outputs": [
    {
     "name": "stdout",
     "output_type": "stream",
     "text": [
      "{1, 2, 3}\n",
      "{1, 2, 3, 4}\n",
      "None\n",
      "{1, 2, 3}\n",
      "set()\n",
      "set()\n",
      "{1, 2, 3, 4, 5, 6, 7, 8, 9, 10}\n",
      "{1, 2, 3, 4, 5, 6, 7, 8, 9, 10}\n",
      "True\n",
      "True\n",
      "False\n",
      "True\n"
     ]
    }
   ],
   "source": [
    "my_set = {1,2,3,4,5}\n",
    "your_set = {4,5,6,7,8,9,10}\n",
    "\n",
    "print(my_set.difference(your_set))\n",
    "my_set.discard(5)\n",
    "print(my_set)\n",
    "\n",
    "my_set = {1,2,3,4,5}\n",
    "print(my_set.difference_update(your_set))\n",
    "print(my_set)\n",
    "\n",
    "print(my_set.intersection(your_set))\n",
    "print(my_set & your_set)\n",
    "print(my_set.union(your_set))\n",
    "print(my_set | your_set)\n",
    "print(my_set.isdisjoint(your_set))\n",
    "\n",
    "my_set = {4,5}\n",
    "print(my_set.issubset(your_set))\n",
    "print(my_set.issuperset(your_set))\n",
    "print(your_set.issuperset(my_set))"
   ]
  }
 ],
 "metadata": {
  "kernelspec": {
   "display_name": "Python 3",
   "language": "python",
   "name": "python3"
  },
  "language_info": {
   "codemirror_mode": {
    "name": "ipython",
    "version": 3
   },
   "file_extension": ".py",
   "mimetype": "text/x-python",
   "name": "python",
   "nbconvert_exporter": "python",
   "pygments_lexer": "ipython3",
   "version": "3.7.6"
  }
 },
 "nbformat": 4,
 "nbformat_minor": 4
}
