{
 "cells": [
  {
   "cell_type": "markdown",
   "metadata": {},
   "source": [
    "# Loops\n",
    "\n",
    "Two types of loops in python:\n",
    "\n",
    "* while loop (infinite loop)\n",
    "* for loop (finite loop)"
   ]
  },
  {
   "cell_type": "code",
   "execution_count": 1,
   "metadata": {},
   "outputs": [
    {
     "name": "stdout",
     "output_type": "stream",
     "text": [
      "0\n",
      "1\n",
      "2\n",
      "3\n",
      "4\n",
      "5\n",
      "6\n",
      "7\n",
      "8\n",
      "9\n"
     ]
    }
   ],
   "source": [
    "i = 0\n",
    "while i<10:\n",
    "    print(i)\n",
    "    i +=1"
   ]
  },
  {
   "cell_type": "code",
   "execution_count": 2,
   "metadata": {},
   "outputs": [
    {
     "name": "stdout",
     "output_type": "stream",
     "text": [
      "1\n",
      "2\n",
      "3\n",
      "4\n",
      "5\n"
     ]
    }
   ],
   "source": [
    "my_list = [1,2,3,4,5]\n",
    "i = 0 \n",
    "while i < len(my_list):\n",
    "    print(my_list[i])\n",
    "    i += 1"
   ]
  },
  {
   "cell_type": "code",
   "execution_count": 3,
   "metadata": {},
   "outputs": [
    {
     "name": "stdout",
     "output_type": "stream",
     "text": [
      "1\n",
      "2\n",
      "3\n",
      "4\n",
      "5\n"
     ]
    }
   ],
   "source": [
    "for i in my_list:\n",
    "    print(i)"
   ]
  },
  {
   "cell_type": "code",
   "execution_count": 4,
   "metadata": {},
   "outputs": [
    {
     "name": "stdout",
     "output_type": "stream",
     "text": [
      "name shubhi\n",
      "age 18\n",
      "interest ['Code', 'Dance', 'Read']\n",
      "\n",
      "\n",
      "('name', 'shubhi')\n",
      "('age', 18)\n",
      "('interest', ['Code', 'Dance', 'Read'])\n",
      "\n",
      "\n",
      "name\n",
      "age\n",
      "interest\n",
      "\n",
      "\n",
      "shubhi\n",
      "18\n",
      "['Code', 'Dance', 'Read']\n"
     ]
    }
   ],
   "source": [
    "dict1 = {'name' : 'shubhi',\n",
    "         'age' : 18,\n",
    "         'interest' : ['Code','Dance','Read']}\n",
    "\n",
    "for key,value in dict1.items():\n",
    "    print(key,value)\n",
    "\n",
    "print('\\n')\n",
    "\n",
    "for item in dict1.items():\n",
    "    print(item)\n",
    "\n",
    "print('\\n')\n",
    "\n",
    "for item in dict1.keys():\n",
    "    print(item)\n",
    "    \n",
    "print('\\n')\n",
    "\n",
    "for item in dict1.values():\n",
    "    print(item)"
   ]
  },
  {
   "cell_type": "markdown",
   "metadata": {},
   "source": [
    "**Enumerate**"
   ]
  },
  {
   "cell_type": "code",
   "execution_count": 5,
   "metadata": {},
   "outputs": [
    {
     "name": "stdout",
     "output_type": "stream",
     "text": [
      "0 h\n",
      "1 e\n",
      "2 l\n",
      "3 l\n",
      "4 o\n",
      "5 o\n",
      "6 o\n"
     ]
    }
   ],
   "source": [
    "for i,char in enumerate('hellooo'):\n",
    "    print(i,char)"
   ]
  }
 ],
 "metadata": {
  "kernelspec": {
   "display_name": "Python 3",
   "language": "python",
   "name": "python3"
  },
  "language_info": {
   "codemirror_mode": {
    "name": "ipython",
    "version": 3
   },
   "file_extension": ".py",
   "mimetype": "text/x-python",
   "name": "python",
   "nbconvert_exporter": "python",
   "pygments_lexer": "ipython3",
   "version": "3.8.3"
  }
 },
 "nbformat": 4,
 "nbformat_minor": 4
}
