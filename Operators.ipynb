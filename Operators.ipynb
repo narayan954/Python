{
 "cells": [
  {
   "cell_type": "markdown",
   "metadata": {},
   "source": [
    "# Operators\n",
    "\n",
    "* Ternary operator\n",
    " > A short way to write simple if else block.\n",
    "\n",
    "* Arithmetic operators (+,-,*,/) ✅\n",
    "* Logical operators (<,>,<=,>=,==,and,or,not)"
   ]
  },
  {
   "cell_type": "markdown",
   "metadata": {},
   "source": [
    "## Ternary operators\n",
    "\n",
    "condition_if_true if condition else condition_if_else"
   ]
  },
  {
   "cell_type": "code",
   "execution_count": 1,
   "metadata": {},
   "outputs": [
    {
     "name": "stdout",
     "output_type": "stream",
     "text": [
      "message allowed\n"
     ]
    }
   ],
   "source": [
    "is_friend = True\n",
    "\n",
    "can_message = 'message allowed' if is_friend else 'not allowed to message'\n",
    "\n",
    "print(can_message)"
   ]
  },
  {
   "cell_type": "markdown",
   "metadata": {},
   "source": [
    "## Logical operators\n",
    "\n",
    "* <,>,<=,>=,==\n",
    "* and,or,not\n",
    "\n",
    "\n",
    "**<,>,<=,>=,==**"
   ]
  },
  {
   "cell_type": "code",
   "execution_count": 2,
   "metadata": {},
   "outputs": [
    {
     "name": "stdout",
     "output_type": "stream",
     "text": [
      "True\n",
      "False\n",
      "True\n",
      "True\n",
      "True\n",
      "False\n",
      "True\n"
     ]
    }
   ],
   "source": [
    "print(4<5)\n",
    "print(4>5)\n",
    "print(2<=2)\n",
    "print(2<=3)\n",
    "print(2>=2)\n",
    "print(2>=3)\n",
    "print('1' == '1')"
   ]
  },
  {
   "cell_type": "markdown",
   "metadata": {},
   "source": [
    "**and,or,not**"
   ]
  },
  {
   "cell_type": "code",
   "execution_count": 6,
   "metadata": {},
   "outputs": [
    {
     "name": "stdout",
     "output_type": "stream",
     "text": [
      "True\n",
      "True \n",
      "\n",
      "False\n",
      "True \n",
      "\n",
      "False\n",
      "False \n",
      "\n",
      "True\n",
      "True\n"
     ]
    }
   ],
   "source": [
    "is_old = True \n",
    "is_liscenced = True\n",
    "\n",
    "print(is_old and is_liscenced)\n",
    "print(is_old or is_liscenced,'\\n')\n",
    "\n",
    "is_old = True \n",
    "is_liscenced = False\n",
    "\n",
    "print(is_old and is_liscenced)\n",
    "print(is_old or is_liscenced,'\\n')\n",
    "\n",
    "is_old = False\n",
    "is_liscenced = False\n",
    "\n",
    "print(is_old and is_liscenced)\n",
    "print(is_old or is_liscenced,'\\n')\n",
    "\n",
    "print(not is_old and not is_liscenced)\n",
    "print(not is_old or is_liscenced)"
   ]
  },
  {
   "cell_type": "code",
   "execution_count": 7,
   "metadata": {},
   "outputs": [
    {
     "name": "stdout",
     "output_type": "stream",
     "text": [
      "You need magic powers....\n"
     ]
    }
   ],
   "source": [
    "is_magician = False\n",
    "is_expert = True\n",
    "\n",
    "if is_magician and is_expert:\n",
    "    print('You are a master magician....')\n",
    "    \n",
    "elif is_magician and not is_expert:\n",
    "    print('Atleast you\\'re getting there....')\n",
    "\n",
    "elif not is_magician:\n",
    "    print('You need magic powers....')"
   ]
  }
 ],
 "metadata": {
  "kernelspec": {
   "display_name": "Python 3",
   "language": "python",
   "name": "python3"
  },
  "language_info": {
   "codemirror_mode": {
    "name": "ipython",
    "version": 3
   },
   "file_extension": ".py",
   "mimetype": "text/x-python",
   "name": "python",
   "nbconvert_exporter": "python",
   "pygments_lexer": "ipython3",
   "version": "3.8.3"
  }
 },
 "nbformat": 4,
 "nbformat_minor": 4
}
