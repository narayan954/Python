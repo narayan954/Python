{
 "cells": [
  {
   "cell_type": "markdown",
   "metadata": {},
   "source": [
    "## Conditional Logics\n",
    "\n",
    "Breaking the flow : Skipping statements according to conditions."
   ]
  },
  {
   "cell_type": "markdown",
   "metadata": {},
   "source": [
    "# If "
   ]
  },
  {
   "cell_type": "code",
   "execution_count": 1,
   "metadata": {},
   "outputs": [
    {
     "name": "stdout",
     "output_type": "stream",
     "text": [
      "okok\n"
     ]
    }
   ],
   "source": [
    "is_old = False\n",
    "\n",
    "if is_old:\n",
    "    print('You can drive now')\n",
    "    \n",
    "print('okok')"
   ]
  },
  {
   "cell_type": "markdown",
   "metadata": {},
   "source": [
    "## If-Else"
   ]
  },
  {
   "cell_type": "code",
   "execution_count": 2,
   "metadata": {},
   "outputs": [
    {
     "name": "stdout",
     "output_type": "stream",
     "text": [
      "You are not old enough\n",
      "okok\n"
     ]
    }
   ],
   "source": [
    "is_old = False\n",
    "\n",
    "if is_old:\n",
    "    print('You can drive now')\n",
    "\n",
    "else:\n",
    "    print('You are not old enough')\n",
    "\n",
    "print('okok')"
   ]
  },
  {
   "cell_type": "markdown",
   "metadata": {},
   "source": [
    "## If-Elif-Else"
   ]
  },
  {
   "cell_type": "code",
   "execution_count": 3,
   "metadata": {},
   "outputs": [
    {
     "name": "stdout",
     "output_type": "stream",
     "text": [
      "You can drive now\n",
      "okok\n"
     ]
    }
   ],
   "source": [
    "is_old = False\n",
    "is_liscenced = True\n",
    "\n",
    "if is_old:\n",
    "    print('You are od enough to drive!!')\n",
    "    \n",
    "elif is_liscenced:\n",
    "    print('You can drive now')\n",
    "\n",
    "else:\n",
    "    print('You are not old enough')\n",
    "\n",
    "print('okok')"
   ]
  }
 ],
 "metadata": {
  "kernelspec": {
   "display_name": "Python 3",
   "language": "python",
   "name": "python3"
  },
  "language_info": {
   "codemirror_mode": {
    "name": "ipython",
    "version": 3
   },
   "file_extension": ".py",
   "mimetype": "text/x-python",
   "name": "python",
   "nbconvert_exporter": "python",
   "pygments_lexer": "ipython3",
   "version": "3.8.3"
  }
 },
 "nbformat": 4,
 "nbformat_minor": 4
}

 To check if the year entered is leap year or not
def is_leap(year):
    if((year%400==0) or (year%4==0 and year%100!=0)):
        leap = True
    else:
        leap = False
    return leap

year = int(input())
print(is_leap(year))
